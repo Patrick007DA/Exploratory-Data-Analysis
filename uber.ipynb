{
 "cells": [
  {
   "cell_type": "code",
   "execution_count": 1,
   "id": "phantom-fight",
   "metadata": {},
   "outputs": [],
   "source": [
    "import numpy as np\n",
    "import pandas as pd \n",
    "import matplotlib.pyplot as plt\n",
    "import seaborn as sns"
   ]
  },
  {
   "cell_type": "code",
   "execution_count": 2,
   "id": "average-barrier",
   "metadata": {},
   "outputs": [],
   "source": [
    "import os "
   ]
  },
  {
   "cell_type": "code",
   "execution_count": 3,
   "id": "flying-index",
   "metadata": {},
   "outputs": [
    {
     "data": {
      "text/plain": [
       "['uber-raw-data-apr14.csv',\n",
       " 'uber-raw-data-aug14.csv',\n",
       " 'uber-raw-data-janjune-15.csv',\n",
       " 'uber-raw-data-jul14.csv',\n",
       " 'uber-raw-data-jun14.csv',\n",
       " 'uber-raw-data-may14.csv',\n",
       " 'uber-raw-data-sep14.csv']"
      ]
     },
     "execution_count": 3,
     "metadata": {},
     "output_type": "execute_result"
    }
   ],
   "source": [
    "files = os.listdir(r'C:\\uber-pickups-in-new-york-city-20210409T092013Z-001\\uber-pickups-in-new-york-city')[-7:]\n",
    "files"
   ]
  },
  {
   "cell_type": "code",
   "execution_count": 4,
   "id": "polished-rubber",
   "metadata": {},
   "outputs": [],
   "source": [
    "files.remove('uber-raw-data-janjune-15.csv')"
   ]
  },
  {
   "cell_type": "code",
   "execution_count": 5,
   "id": "intense-constitution",
   "metadata": {},
   "outputs": [
    {
     "data": {
      "text/plain": [
       "['uber-raw-data-apr14.csv',\n",
       " 'uber-raw-data-aug14.csv',\n",
       " 'uber-raw-data-jul14.csv',\n",
       " 'uber-raw-data-jun14.csv',\n",
       " 'uber-raw-data-may14.csv',\n",
       " 'uber-raw-data-sep14.csv']"
      ]
     },
     "execution_count": 5,
     "metadata": {},
     "output_type": "execute_result"
    }
   ],
   "source": [
    "files"
   ]
  },
  {
   "cell_type": "code",
   "execution_count": 6,
   "id": "alpha-scottish",
   "metadata": {},
   "outputs": [],
   "source": [
    "path = r'C:\\uber-pickups-in-new-york-city-20210409T092013Z-001\\uber-pickups-in-new-york-city'\n",
    "\n",
    "final = pd.DataFrame()\n",
    "\n",
    "for file  in files:\n",
    "    df = pd.read_csv(path+\"/\"+file,encoding ='utf-8')\n",
    "    final = pd.concat([df,final])"
   ]
  },
  {
   "cell_type": "code",
   "execution_count": 7,
   "id": "painful-measure",
   "metadata": {},
   "outputs": [
    {
     "data": {
      "text/plain": [
       "(4534327, 4)"
      ]
     },
     "execution_count": 7,
     "metadata": {},
     "output_type": "execute_result"
    }
   ],
   "source": [
    "final.shape"
   ]
  },
  {
   "cell_type": "code",
   "execution_count": 8,
   "id": "suspected-warrant",
   "metadata": {},
   "outputs": [],
   "source": [
    "df = final.copy()"
   ]
  },
  {
   "cell_type": "code",
   "execution_count": 9,
   "id": "cardiac-columbus",
   "metadata": {},
   "outputs": [
    {
     "data": {
      "text/html": [
       "<div>\n",
       "<style scoped>\n",
       "    .dataframe tbody tr th:only-of-type {\n",
       "        vertical-align: middle;\n",
       "    }\n",
       "\n",
       "    .dataframe tbody tr th {\n",
       "        vertical-align: top;\n",
       "    }\n",
       "\n",
       "    .dataframe thead th {\n",
       "        text-align: right;\n",
       "    }\n",
       "</style>\n",
       "<table border=\"1\" class=\"dataframe\">\n",
       "  <thead>\n",
       "    <tr style=\"text-align: right;\">\n",
       "      <th></th>\n",
       "      <th>Date/Time</th>\n",
       "      <th>Lat</th>\n",
       "      <th>Lon</th>\n",
       "      <th>Base</th>\n",
       "    </tr>\n",
       "  </thead>\n",
       "  <tbody>\n",
       "    <tr>\n",
       "      <th>0</th>\n",
       "      <td>9/1/2014 0:01:00</td>\n",
       "      <td>40.2201</td>\n",
       "      <td>-74.0021</td>\n",
       "      <td>B02512</td>\n",
       "    </tr>\n",
       "    <tr>\n",
       "      <th>1</th>\n",
       "      <td>9/1/2014 0:01:00</td>\n",
       "      <td>40.7500</td>\n",
       "      <td>-74.0027</td>\n",
       "      <td>B02512</td>\n",
       "    </tr>\n",
       "    <tr>\n",
       "      <th>2</th>\n",
       "      <td>9/1/2014 0:03:00</td>\n",
       "      <td>40.7559</td>\n",
       "      <td>-73.9864</td>\n",
       "      <td>B02512</td>\n",
       "    </tr>\n",
       "    <tr>\n",
       "      <th>3</th>\n",
       "      <td>9/1/2014 0:06:00</td>\n",
       "      <td>40.7450</td>\n",
       "      <td>-73.9889</td>\n",
       "      <td>B02512</td>\n",
       "    </tr>\n",
       "    <tr>\n",
       "      <th>4</th>\n",
       "      <td>9/1/2014 0:11:00</td>\n",
       "      <td>40.8145</td>\n",
       "      <td>-73.9444</td>\n",
       "      <td>B02512</td>\n",
       "    </tr>\n",
       "  </tbody>\n",
       "</table>\n",
       "</div>"
      ],
      "text/plain": [
       "          Date/Time      Lat      Lon    Base\n",
       "0  9/1/2014 0:01:00  40.2201 -74.0021  B02512\n",
       "1  9/1/2014 0:01:00  40.7500 -74.0027  B02512\n",
       "2  9/1/2014 0:03:00  40.7559 -73.9864  B02512\n",
       "3  9/1/2014 0:06:00  40.7450 -73.9889  B02512\n",
       "4  9/1/2014 0:11:00  40.8145 -73.9444  B02512"
      ]
     },
     "execution_count": 9,
     "metadata": {},
     "output_type": "execute_result"
    }
   ],
   "source": [
    "df.head()"
   ]
  },
  {
   "cell_type": "code",
   "execution_count": 10,
   "id": "rolled-carroll",
   "metadata": {},
   "outputs": [
    {
     "data": {
      "text/plain": [
       "Date/Time     object\n",
       "Lat          float64\n",
       "Lon          float64\n",
       "Base          object\n",
       "dtype: object"
      ]
     },
     "execution_count": 10,
     "metadata": {},
     "output_type": "execute_result"
    }
   ],
   "source": [
    "df.dtypes"
   ]
  },
  {
   "cell_type": "code",
   "execution_count": 11,
   "id": "recreational-anger",
   "metadata": {},
   "outputs": [],
   "source": [
    "df['Date/Time'] =  pd.to_datetime(df['Date/Time'],format = '%m/%d/%Y  %H:%M:%S')"
   ]
  },
  {
   "cell_type": "code",
   "execution_count": 12,
   "id": "disciplinary-glasgow",
   "metadata": {},
   "outputs": [
    {
     "data": {
      "text/plain": [
       "Date/Time    datetime64[ns]\n",
       "Lat                 float64\n",
       "Lon                 float64\n",
       "Base                 object\n",
       "dtype: object"
      ]
     },
     "execution_count": 12,
     "metadata": {},
     "output_type": "execute_result"
    }
   ],
   "source": [
    "df.dtypes"
   ]
  },
  {
   "cell_type": "code",
   "execution_count": 13,
   "id": "integrated-protest",
   "metadata": {},
   "outputs": [
    {
     "data": {
      "text/html": [
       "<div>\n",
       "<style scoped>\n",
       "    .dataframe tbody tr th:only-of-type {\n",
       "        vertical-align: middle;\n",
       "    }\n",
       "\n",
       "    .dataframe tbody tr th {\n",
       "        vertical-align: top;\n",
       "    }\n",
       "\n",
       "    .dataframe thead th {\n",
       "        text-align: right;\n",
       "    }\n",
       "</style>\n",
       "<table border=\"1\" class=\"dataframe\">\n",
       "  <thead>\n",
       "    <tr style=\"text-align: right;\">\n",
       "      <th></th>\n",
       "      <th>Date/Time</th>\n",
       "      <th>Lat</th>\n",
       "      <th>Lon</th>\n",
       "      <th>Base</th>\n",
       "    </tr>\n",
       "  </thead>\n",
       "  <tbody>\n",
       "    <tr>\n",
       "      <th>0</th>\n",
       "      <td>2014-09-01 00:01:00</td>\n",
       "      <td>40.2201</td>\n",
       "      <td>-74.0021</td>\n",
       "      <td>B02512</td>\n",
       "    </tr>\n",
       "    <tr>\n",
       "      <th>1</th>\n",
       "      <td>2014-09-01 00:01:00</td>\n",
       "      <td>40.7500</td>\n",
       "      <td>-74.0027</td>\n",
       "      <td>B02512</td>\n",
       "    </tr>\n",
       "    <tr>\n",
       "      <th>2</th>\n",
       "      <td>2014-09-01 00:03:00</td>\n",
       "      <td>40.7559</td>\n",
       "      <td>-73.9864</td>\n",
       "      <td>B02512</td>\n",
       "    </tr>\n",
       "    <tr>\n",
       "      <th>3</th>\n",
       "      <td>2014-09-01 00:06:00</td>\n",
       "      <td>40.7450</td>\n",
       "      <td>-73.9889</td>\n",
       "      <td>B02512</td>\n",
       "    </tr>\n",
       "    <tr>\n",
       "      <th>4</th>\n",
       "      <td>2014-09-01 00:11:00</td>\n",
       "      <td>40.8145</td>\n",
       "      <td>-73.9444</td>\n",
       "      <td>B02512</td>\n",
       "    </tr>\n",
       "  </tbody>\n",
       "</table>\n",
       "</div>"
      ],
      "text/plain": [
       "            Date/Time      Lat      Lon    Base\n",
       "0 2014-09-01 00:01:00  40.2201 -74.0021  B02512\n",
       "1 2014-09-01 00:01:00  40.7500 -74.0027  B02512\n",
       "2 2014-09-01 00:03:00  40.7559 -73.9864  B02512\n",
       "3 2014-09-01 00:06:00  40.7450 -73.9889  B02512\n",
       "4 2014-09-01 00:11:00  40.8145 -73.9444  B02512"
      ]
     },
     "execution_count": 13,
     "metadata": {},
     "output_type": "execute_result"
    }
   ],
   "source": [
    "df.head()"
   ]
  },
  {
   "cell_type": "code",
   "execution_count": 14,
   "id": "strange-strike",
   "metadata": {},
   "outputs": [],
   "source": [
    "df['weekday'] = df['Date/Time'].dt.day_name()\n",
    "df['day'] = df['Date/Time'].dt.day\n",
    "df['minute'] = df['Date/Time'].dt.minute\n",
    "df['month'] = df['Date/Time'].dt.month\n",
    "df['hour'] = df['Date/Time'].dt.hour"
   ]
  },
  {
   "cell_type": "code",
   "execution_count": 15,
   "id": "isolated-makeup",
   "metadata": {},
   "outputs": [
    {
     "data": {
      "text/html": [
       "<div>\n",
       "<style scoped>\n",
       "    .dataframe tbody tr th:only-of-type {\n",
       "        vertical-align: middle;\n",
       "    }\n",
       "\n",
       "    .dataframe tbody tr th {\n",
       "        vertical-align: top;\n",
       "    }\n",
       "\n",
       "    .dataframe thead th {\n",
       "        text-align: right;\n",
       "    }\n",
       "</style>\n",
       "<table border=\"1\" class=\"dataframe\">\n",
       "  <thead>\n",
       "    <tr style=\"text-align: right;\">\n",
       "      <th></th>\n",
       "      <th>Date/Time</th>\n",
       "      <th>Lat</th>\n",
       "      <th>Lon</th>\n",
       "      <th>Base</th>\n",
       "      <th>weekday</th>\n",
       "      <th>day</th>\n",
       "      <th>minute</th>\n",
       "      <th>month</th>\n",
       "      <th>hour</th>\n",
       "    </tr>\n",
       "  </thead>\n",
       "  <tbody>\n",
       "    <tr>\n",
       "      <th>0</th>\n",
       "      <td>2014-09-01 00:01:00</td>\n",
       "      <td>40.2201</td>\n",
       "      <td>-74.0021</td>\n",
       "      <td>B02512</td>\n",
       "      <td>Monday</td>\n",
       "      <td>1</td>\n",
       "      <td>1</td>\n",
       "      <td>9</td>\n",
       "      <td>0</td>\n",
       "    </tr>\n",
       "    <tr>\n",
       "      <th>1</th>\n",
       "      <td>2014-09-01 00:01:00</td>\n",
       "      <td>40.7500</td>\n",
       "      <td>-74.0027</td>\n",
       "      <td>B02512</td>\n",
       "      <td>Monday</td>\n",
       "      <td>1</td>\n",
       "      <td>1</td>\n",
       "      <td>9</td>\n",
       "      <td>0</td>\n",
       "    </tr>\n",
       "    <tr>\n",
       "      <th>2</th>\n",
       "      <td>2014-09-01 00:03:00</td>\n",
       "      <td>40.7559</td>\n",
       "      <td>-73.9864</td>\n",
       "      <td>B02512</td>\n",
       "      <td>Monday</td>\n",
       "      <td>1</td>\n",
       "      <td>3</td>\n",
       "      <td>9</td>\n",
       "      <td>0</td>\n",
       "    </tr>\n",
       "    <tr>\n",
       "      <th>3</th>\n",
       "      <td>2014-09-01 00:06:00</td>\n",
       "      <td>40.7450</td>\n",
       "      <td>-73.9889</td>\n",
       "      <td>B02512</td>\n",
       "      <td>Monday</td>\n",
       "      <td>1</td>\n",
       "      <td>6</td>\n",
       "      <td>9</td>\n",
       "      <td>0</td>\n",
       "    </tr>\n",
       "    <tr>\n",
       "      <th>4</th>\n",
       "      <td>2014-09-01 00:11:00</td>\n",
       "      <td>40.8145</td>\n",
       "      <td>-73.9444</td>\n",
       "      <td>B02512</td>\n",
       "      <td>Monday</td>\n",
       "      <td>1</td>\n",
       "      <td>11</td>\n",
       "      <td>9</td>\n",
       "      <td>0</td>\n",
       "    </tr>\n",
       "  </tbody>\n",
       "</table>\n",
       "</div>"
      ],
      "text/plain": [
       "            Date/Time      Lat      Lon    Base weekday  day  minute  month  \\\n",
       "0 2014-09-01 00:01:00  40.2201 -74.0021  B02512  Monday    1       1      9   \n",
       "1 2014-09-01 00:01:00  40.7500 -74.0027  B02512  Monday    1       1      9   \n",
       "2 2014-09-01 00:03:00  40.7559 -73.9864  B02512  Monday    1       3      9   \n",
       "3 2014-09-01 00:06:00  40.7450 -73.9889  B02512  Monday    1       6      9   \n",
       "4 2014-09-01 00:11:00  40.8145 -73.9444  B02512  Monday    1      11      9   \n",
       "\n",
       "   hour  \n",
       "0     0  \n",
       "1     0  \n",
       "2     0  \n",
       "3     0  \n",
       "4     0  "
      ]
     },
     "execution_count": 15,
     "metadata": {},
     "output_type": "execute_result"
    }
   ],
   "source": [
    "df.head()"
   ]
  },
  {
   "cell_type": "code",
   "execution_count": 43,
   "id": "hydraulic-thickness",
   "metadata": {},
   "outputs": [
    {
     "data": {
      "text/plain": [
       "Thursday     755145\n",
       "Friday       741139\n",
       "Wednesday    696488\n",
       "Tuesday      663789\n",
       "Saturday     646114\n",
       "Monday       541472\n",
       "Sunday       490180\n",
       "Name: weekday, dtype: int64"
      ]
     },
     "execution_count": 43,
     "metadata": {},
     "output_type": "execute_result"
    }
   ],
   "source": [
    "df['weekday'].value_counts()"
   ]
  },
  {
   "cell_type": "code",
   "execution_count": 44,
   "id": "about-emperor",
   "metadata": {},
   "outputs": [
    {
     "data": {
      "text/plain": [
       "(array([216928., 103517., 227152., 543565., 324851., 366329., 819491.,\n",
       "        660869., 579117., 692508.]),\n",
       " array([ 0. ,  2.3,  4.6,  6.9,  9.2, 11.5, 13.8, 16.1, 18.4, 20.7, 23. ]),\n",
       " <BarContainer object of 10 artists>)"
      ]
     },
     "execution_count": 44,
     "metadata": {},
     "output_type": "execute_result"
    },
    {
     "data": {
      "image/png": "[encoded data removed]",
      "text/plain": [
       "<Figure size 432x288 with 1 Axes>"
      ]
     },
     "metadata": {
      "needs_background": "light"
     },
     "output_type": "display_data"
    }
   ],
   "source": [
    "plt.hist(df['hour'])"
   ]
  },
  {
   "cell_type": "code",
   "execution_count": 45,
   "id": "eleven-resort",
   "metadata": {},
   "outputs": [
    {
     "data": {
      "text/plain": [
       "Text(0.5, 1.0, 'Journy by day in a Month')"
      ]
     },
     "execution_count": 45,
     "metadata": {},
     "output_type": "execute_result"
    },
    {
     "data": {
      "image/png": "[encoded data removed]",
      "text/plain": [
       "<Figure size 720x576 with 1 Axes>"
      ]
     },
     "metadata": {
      "needs_background": "light"
     },
     "output_type": "display_data"
    }
   ],
   "source": [
    "plt.figure(figsize=(10,8))\n",
    "plt.hist(df['day'],bins=30,rwidth=0.8,range=(0.5,30.5))\n",
    "plt.xlabel('Date of Month')\n",
    "plt.ylabel('Toatal Journy')\n",
    "plt.title('Journy by day in a Month')"
   ]
  },
  {
   "cell_type": "code",
   "execution_count": 46,
   "id": "elementary-journal",
   "metadata": {},
   "outputs": [
    {
     "name": "stderr",
     "output_type": "stream",
     "text": [
      "c:\\users\\pratik g ratnaparkhi\\appdata\\local\\programs\\python\\python39\\lib\\site-packages\\seaborn\\distributions.py:2557: FutureWarning:\n",
      "\n",
      "`distplot` is a deprecated function and will be removed in a future version. Please adapt your code to use either `displot` (a figure-level function with similar flexibility) or `histplot` (an axes-level function for histograms).\n",
      "\n"
     ]
    },
    {
     "data": {
      "text/plain": [
       "<AxesSubplot:xlabel='day', ylabel='Density'>"
      ]
     },
     "execution_count": 46,
     "metadata": {},
     "output_type": "execute_result"
    },
    {
     "data": {
      "image/png": "[encoded data removed]",
      "text/plain": [
       "<Figure size 432x288 with 1 Axes>"
      ]
     },
     "metadata": {
      "needs_background": "light"
     },
     "output_type": "display_data"
    }
   ],
   "source": [
    "sns.distplot(df['day'])"
   ]
  },
  {
   "cell_type": "code",
   "execution_count": 47,
   "id": "found-agreement",
   "metadata": {},
   "outputs": [
    {
     "data": {
      "image/png": "[encoded data removed]",
      "text/plain": [
       "<Figure size 576x360 with 1 Axes>"
      ]
     },
     "metadata": {
      "needs_background": "light"
     },
     "output_type": "display_data"
    }
   ],
   "source": [
    "plt.figure(figsize=(8,5))\n",
    "plt.subplot(2,1,1)\n",
    "plt.hist(df['day'],rwidth=0.8)\n",
    "plt.grid()\n"
   ]
  },
  {
   "cell_type": "code",
   "execution_count": 48,
   "id": "academic-airport",
   "metadata": {
    "scrolled": true
   },
   "outputs": [
    {
     "data": {
      "image/png": "[encoded data removed]",
      "text/plain": [
       "<Figure size 432x288 with 6 Axes>"
      ]
     },
     "metadata": {
      "needs_background": "light"
     },
     "output_type": "display_data"
    }
   ],
   "source": [
    "for i,month in enumerate(df['month'].unique(),1):\n",
    "    plt.subplot(3,2,i)\n",
    "    df_out = df[df['month']==month]\n",
    "    plt.hist(df_out['day'])\n",
    "    plt.xlabel('days in month {}'.format(month))\n",
    "    plt.ylabel('Total_Rides')"
   ]
  },
  {
   "cell_type": "code",
   "execution_count": null,
   "id": "fitted-elder",
   "metadata": {},
   "outputs": [],
   "source": [
    "ax=sns.pointplot(x='hour',y='Lat',data=df,hue='weekday')\n",
    "as.set_title('hours per day vs latitude of passengers')"
   ]
  },
  {
   "cell_type": "code",
   "execution_count": 50,
   "id": "backed-nicaragua",
   "metadata": {},
   "outputs": [
    {
     "data": {
      "text/html": [
       "<div>\n",
       "<style scoped>\n",
       "    .dataframe tbody tr th:only-of-type {\n",
       "        vertical-align: middle;\n",
       "    }\n",
       "\n",
       "    .dataframe tbody tr th {\n",
       "        vertical-align: top;\n",
       "    }\n",
       "\n",
       "    .dataframe thead th {\n",
       "        text-align: right;\n",
       "    }\n",
       "</style>\n",
       "<table border=\"1\" class=\"dataframe\">\n",
       "  <thead>\n",
       "    <tr style=\"text-align: right;\">\n",
       "      <th></th>\n",
       "      <th>Base</th>\n",
       "      <th>month</th>\n",
       "      <th>Date/Time</th>\n",
       "    </tr>\n",
       "  </thead>\n",
       "  <tbody>\n",
       "    <tr>\n",
       "      <th>0</th>\n",
       "      <td>B02512</td>\n",
       "      <td>4</td>\n",
       "      <td>35536</td>\n",
       "    </tr>\n",
       "    <tr>\n",
       "      <th>1</th>\n",
       "      <td>B02512</td>\n",
       "      <td>5</td>\n",
       "      <td>36765</td>\n",
       "    </tr>\n",
       "    <tr>\n",
       "      <th>2</th>\n",
       "      <td>B02512</td>\n",
       "      <td>6</td>\n",
       "      <td>32509</td>\n",
       "    </tr>\n",
       "    <tr>\n",
       "      <th>3</th>\n",
       "      <td>B02512</td>\n",
       "      <td>7</td>\n",
       "      <td>35021</td>\n",
       "    </tr>\n",
       "    <tr>\n",
       "      <th>4</th>\n",
       "      <td>B02512</td>\n",
       "      <td>8</td>\n",
       "      <td>31472</td>\n",
       "    </tr>\n",
       "    <tr>\n",
       "      <th>5</th>\n",
       "      <td>B02512</td>\n",
       "      <td>9</td>\n",
       "      <td>34370</td>\n",
       "    </tr>\n",
       "    <tr>\n",
       "      <th>6</th>\n",
       "      <td>B02598</td>\n",
       "      <td>4</td>\n",
       "      <td>183263</td>\n",
       "    </tr>\n",
       "    <tr>\n",
       "      <th>7</th>\n",
       "      <td>B02598</td>\n",
       "      <td>5</td>\n",
       "      <td>260549</td>\n",
       "    </tr>\n",
       "    <tr>\n",
       "      <th>8</th>\n",
       "      <td>B02598</td>\n",
       "      <td>6</td>\n",
       "      <td>242975</td>\n",
       "    </tr>\n",
       "    <tr>\n",
       "      <th>9</th>\n",
       "      <td>B02598</td>\n",
       "      <td>7</td>\n",
       "      <td>245597</td>\n",
       "    </tr>\n",
       "    <tr>\n",
       "      <th>10</th>\n",
       "      <td>B02598</td>\n",
       "      <td>8</td>\n",
       "      <td>220129</td>\n",
       "    </tr>\n",
       "    <tr>\n",
       "      <th>11</th>\n",
       "      <td>B02598</td>\n",
       "      <td>9</td>\n",
       "      <td>240600</td>\n",
       "    </tr>\n",
       "    <tr>\n",
       "      <th>12</th>\n",
       "      <td>B02617</td>\n",
       "      <td>4</td>\n",
       "      <td>108001</td>\n",
       "    </tr>\n",
       "    <tr>\n",
       "      <th>13</th>\n",
       "      <td>B02617</td>\n",
       "      <td>5</td>\n",
       "      <td>122734</td>\n",
       "    </tr>\n",
       "    <tr>\n",
       "      <th>14</th>\n",
       "      <td>B02617</td>\n",
       "      <td>6</td>\n",
       "      <td>184460</td>\n",
       "    </tr>\n",
       "    <tr>\n",
       "      <th>15</th>\n",
       "      <td>B02617</td>\n",
       "      <td>7</td>\n",
       "      <td>310160</td>\n",
       "    </tr>\n",
       "    <tr>\n",
       "      <th>16</th>\n",
       "      <td>B02617</td>\n",
       "      <td>8</td>\n",
       "      <td>355803</td>\n",
       "    </tr>\n",
       "    <tr>\n",
       "      <th>17</th>\n",
       "      <td>B02617</td>\n",
       "      <td>9</td>\n",
       "      <td>377695</td>\n",
       "    </tr>\n",
       "    <tr>\n",
       "      <th>18</th>\n",
       "      <td>B02682</td>\n",
       "      <td>4</td>\n",
       "      <td>227808</td>\n",
       "    </tr>\n",
       "    <tr>\n",
       "      <th>19</th>\n",
       "      <td>B02682</td>\n",
       "      <td>5</td>\n",
       "      <td>222883</td>\n",
       "    </tr>\n",
       "    <tr>\n",
       "      <th>20</th>\n",
       "      <td>B02682</td>\n",
       "      <td>6</td>\n",
       "      <td>194926</td>\n",
       "    </tr>\n",
       "    <tr>\n",
       "      <th>21</th>\n",
       "      <td>B02682</td>\n",
       "      <td>7</td>\n",
       "      <td>196754</td>\n",
       "    </tr>\n",
       "    <tr>\n",
       "      <th>22</th>\n",
       "      <td>B02682</td>\n",
       "      <td>8</td>\n",
       "      <td>173280</td>\n",
       "    </tr>\n",
       "    <tr>\n",
       "      <th>23</th>\n",
       "      <td>B02682</td>\n",
       "      <td>9</td>\n",
       "      <td>197138</td>\n",
       "    </tr>\n",
       "    <tr>\n",
       "      <th>24</th>\n",
       "      <td>B02764</td>\n",
       "      <td>4</td>\n",
       "      <td>9908</td>\n",
       "    </tr>\n",
       "    <tr>\n",
       "      <th>25</th>\n",
       "      <td>B02764</td>\n",
       "      <td>5</td>\n",
       "      <td>9504</td>\n",
       "    </tr>\n",
       "    <tr>\n",
       "      <th>26</th>\n",
       "      <td>B02764</td>\n",
       "      <td>6</td>\n",
       "      <td>8974</td>\n",
       "    </tr>\n",
       "    <tr>\n",
       "      <th>27</th>\n",
       "      <td>B02764</td>\n",
       "      <td>7</td>\n",
       "      <td>8589</td>\n",
       "    </tr>\n",
       "    <tr>\n",
       "      <th>28</th>\n",
       "      <td>B02764</td>\n",
       "      <td>8</td>\n",
       "      <td>48591</td>\n",
       "    </tr>\n",
       "    <tr>\n",
       "      <th>29</th>\n",
       "      <td>B02764</td>\n",
       "      <td>9</td>\n",
       "      <td>178333</td>\n",
       "    </tr>\n",
       "  </tbody>\n",
       "</table>\n",
       "</div>"
      ],
      "text/plain": [
       "      Base  month  Date/Time\n",
       "0   B02512      4      35536\n",
       "1   B02512      5      36765\n",
       "2   B02512      6      32509\n",
       "3   B02512      7      35021\n",
       "4   B02512      8      31472\n",
       "5   B02512      9      34370\n",
       "6   B02598      4     183263\n",
       "7   B02598      5     260549\n",
       "8   B02598      6     242975\n",
       "9   B02598      7     245597\n",
       "10  B02598      8     220129\n",
       "11  B02598      9     240600\n",
       "12  B02617      4     108001\n",
       "13  B02617      5     122734\n",
       "14  B02617      6     184460\n",
       "15  B02617      7     310160\n",
       "16  B02617      8     355803\n",
       "17  B02617      9     377695\n",
       "18  B02682      4     227808\n",
       "19  B02682      5     222883\n",
       "20  B02682      6     194926\n",
       "21  B02682      7     196754\n",
       "22  B02682      8     173280\n",
       "23  B02682      9     197138\n",
       "24  B02764      4       9908\n",
       "25  B02764      5       9504\n",
       "26  B02764      6       8974\n",
       "27  B02764      7       8589\n",
       "28  B02764      8      48591\n",
       "29  B02764      9     178333"
      ]
     },
     "execution_count": 50,
     "metadata": {},
     "output_type": "execute_result"
    }
   ],
   "source": [
    "base=df.groupby(['Base','month'])['Date/Time'].count().reset_index()\n",
    "base"
   ]
  },
  {
   "cell_type": "code",
   "execution_count": 55,
   "id": "alternate-square",
   "metadata": {},
   "outputs": [
    {
     "data": {
      "text/plain": [
       "<AxesSubplot:xlabel='month', ylabel='Date/Time'>"
      ]
     },
     "execution_count": 55,
     "metadata": {},
     "output_type": "execute_result"
    },
    {
     "data": {
      "image/png": "[encoded data removed]",
      "text/plain": [
       "<Figure size 720x576 with 1 Axes>"
      ]
     },
     "metadata": {
      "needs_background": "light"
     },
     "output_type": "display_data"
    }
   ],
   "source": [
    "plt.figure(figsize=(10,8))\n",
    "sns.lineplot(x='month',y='Date/Time',hue='Base',data=base)\n"
   ]
  },
  {
   "cell_type": "code",
   "execution_count": 57,
   "id": "isolated-liechtenstein",
   "metadata": {},
   "outputs": [],
   "source": [
    "def count_rows(rows):\n",
    "    return len(rows)"
   ]
  },
  {
   "cell_type": "code",
   "execution_count": 59,
   "id": "stable-calgary",
   "metadata": {},
   "outputs": [
    {
     "data": {
      "text/plain": [
       "weekday    hour\n",
       "Friday     0       13716\n",
       "           1        8163\n",
       "           2        5350\n",
       "           3        6930\n",
       "           4        8806\n",
       "                   ...  \n",
       "Wednesday  19      47017\n",
       "           20      47772\n",
       "           21      44553\n",
       "           22      32868\n",
       "           23      18146\n",
       "Length: 168, dtype: int64"
      ]
     },
     "execution_count": 59,
     "metadata": {},
     "output_type": "execute_result"
    }
   ],
   "source": [
    "by_cross = df.groupby(['weekday','hour']).apply(count_rows)\n",
    "by_cross"
   ]
  },
  {
   "cell_type": "code",
   "execution_count": 60,
   "id": "reported-member",
   "metadata": {},
   "outputs": [
    {
     "data": {
      "text/html": [
       "<div>\n",
       "<style scoped>\n",
       "    .dataframe tbody tr th:only-of-type {\n",
       "        vertical-align: middle;\n",
       "    }\n",
       "\n",
       "    .dataframe tbody tr th {\n",
       "        vertical-align: top;\n",
       "    }\n",
       "\n",
       "    .dataframe thead th {\n",
       "        text-align: right;\n",
       "    }\n",
       "</style>\n",
       "<table border=\"1\" class=\"dataframe\">\n",
       "  <thead>\n",
       "    <tr style=\"text-align: right;\">\n",
       "      <th>hour</th>\n",
       "      <th>0</th>\n",
       "      <th>1</th>\n",
       "      <th>2</th>\n",
       "      <th>3</th>\n",
       "      <th>4</th>\n",
       "      <th>5</th>\n",
       "      <th>6</th>\n",
       "      <th>7</th>\n",
       "      <th>8</th>\n",
       "      <th>9</th>\n",
       "      <th>...</th>\n",
       "      <th>14</th>\n",
       "      <th>15</th>\n",
       "      <th>16</th>\n",
       "      <th>17</th>\n",
       "      <th>18</th>\n",
       "      <th>19</th>\n",
       "      <th>20</th>\n",
       "      <th>21</th>\n",
       "      <th>22</th>\n",
       "      <th>23</th>\n",
       "    </tr>\n",
       "    <tr>\n",
       "      <th>weekday</th>\n",
       "      <th></th>\n",
       "      <th></th>\n",
       "      <th></th>\n",
       "      <th></th>\n",
       "      <th></th>\n",
       "      <th></th>\n",
       "      <th></th>\n",
       "      <th></th>\n",
       "      <th></th>\n",
       "      <th></th>\n",
       "      <th></th>\n",
       "      <th></th>\n",
       "      <th></th>\n",
       "      <th></th>\n",
       "      <th></th>\n",
       "      <th></th>\n",
       "      <th></th>\n",
       "      <th></th>\n",
       "      <th></th>\n",
       "      <th></th>\n",
       "      <th></th>\n",
       "    </tr>\n",
       "  </thead>\n",
       "  <tbody>\n",
       "    <tr>\n",
       "      <th>Friday</th>\n",
       "      <td>13716</td>\n",
       "      <td>8163</td>\n",
       "      <td>5350</td>\n",
       "      <td>6930</td>\n",
       "      <td>8806</td>\n",
       "      <td>13450</td>\n",
       "      <td>23412</td>\n",
       "      <td>32061</td>\n",
       "      <td>31509</td>\n",
       "      <td>25230</td>\n",
       "      <td>...</td>\n",
       "      <td>36206</td>\n",
       "      <td>43673</td>\n",
       "      <td>48169</td>\n",
       "      <td>51961</td>\n",
       "      <td>54762</td>\n",
       "      <td>49595</td>\n",
       "      <td>43542</td>\n",
       "      <td>48323</td>\n",
       "      <td>49409</td>\n",
       "      <td>41260</td>\n",
       "    </tr>\n",
       "    <tr>\n",
       "      <th>Monday</th>\n",
       "      <td>6436</td>\n",
       "      <td>3737</td>\n",
       "      <td>2938</td>\n",
       "      <td>6232</td>\n",
       "      <td>9640</td>\n",
       "      <td>15032</td>\n",
       "      <td>23746</td>\n",
       "      <td>31159</td>\n",
       "      <td>29265</td>\n",
       "      <td>22197</td>\n",
       "      <td>...</td>\n",
       "      <td>28157</td>\n",
       "      <td>32744</td>\n",
       "      <td>38770</td>\n",
       "      <td>42023</td>\n",
       "      <td>37000</td>\n",
       "      <td>34159</td>\n",
       "      <td>32849</td>\n",
       "      <td>28925</td>\n",
       "      <td>20158</td>\n",
       "      <td>11811</td>\n",
       "    </tr>\n",
       "    <tr>\n",
       "      <th>Saturday</th>\n",
       "      <td>27633</td>\n",
       "      <td>19189</td>\n",
       "      <td>12710</td>\n",
       "      <td>9542</td>\n",
       "      <td>6846</td>\n",
       "      <td>7084</td>\n",
       "      <td>8579</td>\n",
       "      <td>11014</td>\n",
       "      <td>14411</td>\n",
       "      <td>17669</td>\n",
       "      <td>...</td>\n",
       "      <td>31418</td>\n",
       "      <td>38769</td>\n",
       "      <td>43512</td>\n",
       "      <td>42844</td>\n",
       "      <td>45883</td>\n",
       "      <td>41098</td>\n",
       "      <td>38714</td>\n",
       "      <td>43826</td>\n",
       "      <td>47951</td>\n",
       "      <td>43174</td>\n",
       "    </tr>\n",
       "    <tr>\n",
       "      <th>Sunday</th>\n",
       "      <td>32877</td>\n",
       "      <td>23015</td>\n",
       "      <td>15436</td>\n",
       "      <td>10597</td>\n",
       "      <td>6374</td>\n",
       "      <td>6169</td>\n",
       "      <td>6596</td>\n",
       "      <td>8728</td>\n",
       "      <td>12128</td>\n",
       "      <td>16401</td>\n",
       "      <td>...</td>\n",
       "      <td>28151</td>\n",
       "      <td>31112</td>\n",
       "      <td>33038</td>\n",
       "      <td>31521</td>\n",
       "      <td>28291</td>\n",
       "      <td>25948</td>\n",
       "      <td>25076</td>\n",
       "      <td>23967</td>\n",
       "      <td>19566</td>\n",
       "      <td>12166</td>\n",
       "    </tr>\n",
       "    <tr>\n",
       "      <th>Thursday</th>\n",
       "      <td>9293</td>\n",
       "      <td>5290</td>\n",
       "      <td>3719</td>\n",
       "      <td>5637</td>\n",
       "      <td>8505</td>\n",
       "      <td>14169</td>\n",
       "      <td>27065</td>\n",
       "      <td>37038</td>\n",
       "      <td>35431</td>\n",
       "      <td>27812</td>\n",
       "      <td>...</td>\n",
       "      <td>36699</td>\n",
       "      <td>44442</td>\n",
       "      <td>50560</td>\n",
       "      <td>56704</td>\n",
       "      <td>55825</td>\n",
       "      <td>51907</td>\n",
       "      <td>51990</td>\n",
       "      <td>51953</td>\n",
       "      <td>44194</td>\n",
       "      <td>27764</td>\n",
       "    </tr>\n",
       "    <tr>\n",
       "      <th>Tuesday</th>\n",
       "      <td>6237</td>\n",
       "      <td>3509</td>\n",
       "      <td>2571</td>\n",
       "      <td>4494</td>\n",
       "      <td>7548</td>\n",
       "      <td>14241</td>\n",
       "      <td>26872</td>\n",
       "      <td>36599</td>\n",
       "      <td>33934</td>\n",
       "      <td>25023</td>\n",
       "      <td>...</td>\n",
       "      <td>34846</td>\n",
       "      <td>41338</td>\n",
       "      <td>48667</td>\n",
       "      <td>55500</td>\n",
       "      <td>50186</td>\n",
       "      <td>44789</td>\n",
       "      <td>44661</td>\n",
       "      <td>39913</td>\n",
       "      <td>27712</td>\n",
       "      <td>14869</td>\n",
       "    </tr>\n",
       "    <tr>\n",
       "      <th>Wednesday</th>\n",
       "      <td>7644</td>\n",
       "      <td>4324</td>\n",
       "      <td>3141</td>\n",
       "      <td>4855</td>\n",
       "      <td>7511</td>\n",
       "      <td>13794</td>\n",
       "      <td>26943</td>\n",
       "      <td>36495</td>\n",
       "      <td>33826</td>\n",
       "      <td>25635</td>\n",
       "      <td>...</td>\n",
       "      <td>35148</td>\n",
       "      <td>43388</td>\n",
       "      <td>50684</td>\n",
       "      <td>55637</td>\n",
       "      <td>52732</td>\n",
       "      <td>47017</td>\n",
       "      <td>47772</td>\n",
       "      <td>44553</td>\n",
       "      <td>32868</td>\n",
       "      <td>18146</td>\n",
       "    </tr>\n",
       "  </tbody>\n",
       "</table>\n",
       "<p>7 rows × 24 columns</p>\n",
       "</div>"
      ],
      "text/plain": [
       "hour          0      1      2      3     4      5      6      7      8   \\\n",
       "weekday                                                                   \n",
       "Friday     13716   8163   5350   6930  8806  13450  23412  32061  31509   \n",
       "Monday      6436   3737   2938   6232  9640  15032  23746  31159  29265   \n",
       "Saturday   27633  19189  12710   9542  6846   7084   8579  11014  14411   \n",
       "Sunday     32877  23015  15436  10597  6374   6169   6596   8728  12128   \n",
       "Thursday    9293   5290   3719   5637  8505  14169  27065  37038  35431   \n",
       "Tuesday     6237   3509   2571   4494  7548  14241  26872  36599  33934   \n",
       "Wednesday   7644   4324   3141   4855  7511  13794  26943  36495  33826   \n",
       "\n",
       "hour          9   ...     14     15     16     17     18     19     20     21  \\\n",
       "weekday           ...                                                           \n",
       "Friday     25230  ...  36206  43673  48169  51961  54762  49595  43542  48323   \n",
       "Monday     22197  ...  28157  32744  38770  42023  37000  34159  32849  28925   \n",
       "Saturday   17669  ...  31418  38769  43512  42844  45883  41098  38714  43826   \n",
       "Sunday     16401  ...  28151  31112  33038  31521  28291  25948  25076  23967   \n",
       "Thursday   27812  ...  36699  44442  50560  56704  55825  51907  51990  51953   \n",
       "Tuesday    25023  ...  34846  41338  48667  55500  50186  44789  44661  39913   \n",
       "Wednesday  25635  ...  35148  43388  50684  55637  52732  47017  47772  44553   \n",
       "\n",
       "hour          22     23  \n",
       "weekday                  \n",
       "Friday     49409  41260  \n",
       "Monday     20158  11811  \n",
       "Saturday   47951  43174  \n",
       "Sunday     19566  12166  \n",
       "Thursday   44194  27764  \n",
       "Tuesday    27712  14869  \n",
       "Wednesday  32868  18146  \n",
       "\n",
       "[7 rows x 24 columns]"
      ]
     },
     "execution_count": 60,
     "metadata": {},
     "output_type": "execute_result"
    }
   ],
   "source": [
    "pivot = by_cross.unstack()\n",
    "pivot"
   ]
  },
  {
   "cell_type": "code",
   "execution_count": 61,
   "id": "objective-error",
   "metadata": {},
   "outputs": [
    {
     "data": {
      "text/plain": [
       "<AxesSubplot:xlabel='hour', ylabel='weekday'>"
      ]
     },
     "execution_count": 61,
     "metadata": {},
     "output_type": "execute_result"
    },
    {
     "data": {
      "image/png": "[encoded data removed]",
      "text/plain": [
       "<Figure size 432x288 with 2 Axes>"
      ]
     },
     "metadata": {
      "needs_background": "light"
     },
     "output_type": "display_data"
    }
   ],
   "source": [
    "sns.heatmap(pivot)"
   ]
  },
  {
   "cell_type": "code",
   "execution_count": 62,
   "id": "deadly-cheese",
   "metadata": {},
   "outputs": [],
   "source": [
    "def heatmap(col1,col2):\n",
    "    by_cross = df.groupby([col1,col2]).apply(count_rows)\n",
    "    pivot = by_cross.unstack()\n",
    "    plt.figure(figsize=(10,8))\n",
    "    return sns.heatmap(pivot)"
   ]
  },
  {
   "cell_type": "code",
   "execution_count": 63,
   "id": "communist-charter",
   "metadata": {},
   "outputs": [
    {
     "data": {
      "text/plain": [
       "<AxesSubplot:xlabel='hour', ylabel='day'>"
      ]
     },
     "execution_count": 63,
     "metadata": {},
     "output_type": "execute_result"
    },
    {
     "data": {
      "image/png": "[encoded data removed]",
      "text/plain": [
       "<Figure size 720x576 with 2 Axes>"
      ]
     },
     "metadata": {
      "needs_background": "light"
     },
     "output_type": "display_data"
    }
   ],
   "source": [
    "heatmap('day','hour')"
   ]
  },
  {
   "cell_type": "code",
   "execution_count": 64,
   "id": "hazardous-bonus",
   "metadata": {},
   "outputs": [
    {
     "data": {
      "text/plain": [
       "<AxesSubplot:xlabel='month', ylabel='day'>"
      ]
     },
     "execution_count": 64,
     "metadata": {},
     "output_type": "execute_result"
    },
    {
     "data": {
      "image/png": "[encoded data removed]",
      "text/plain": [
       "<Figure size 720x576 with 2 Axes>"
      ]
     },
     "metadata": {
      "needs_background": "light"
     },
     "output_type": "display_data"
    }
   ],
   "source": [
    "heatmap('day','month')"
   ]
  },
  {
   "cell_type": "code",
   "execution_count": 70,
   "id": "daily-pantyhose",
   "metadata": {},
   "outputs": [],
   "source": [
    "uber_15 = pd.read_csv(r'C:\\Users\\Pratik G Ratnaparkhi\\Downloads\\uber-pickups-in-new-york-city-20210409T092013Z-001\\uber-pickups-in-new-york-city/uber-raw-data-janjune-15.csv')"
   ]
  },
  {
   "cell_type": "code",
   "execution_count": 71,
   "id": "piano-boost",
   "metadata": {},
   "outputs": [
    {
     "data": {
      "text/html": [
       "<div>\n",
       "<style scoped>\n",
       "    .dataframe tbody tr th:only-of-type {\n",
       "        vertical-align: middle;\n",
       "    }\n",
       "\n",
       "    .dataframe tbody tr th {\n",
       "        vertical-align: top;\n",
       "    }\n",
       "\n",
       "    .dataframe thead th {\n",
       "        text-align: right;\n",
       "    }\n",
       "</style>\n",
       "<table border=\"1\" class=\"dataframe\">\n",
       "  <thead>\n",
       "    <tr style=\"text-align: right;\">\n",
       "      <th></th>\n",
       "      <th>Dispatching_base_num</th>\n",
       "      <th>Pickup_date</th>\n",
       "      <th>Affiliated_base_num</th>\n",
       "      <th>locationID</th>\n",
       "    </tr>\n",
       "  </thead>\n",
       "  <tbody>\n",
       "    <tr>\n",
       "      <th>0</th>\n",
       "      <td>B02617</td>\n",
       "      <td>2015-05-17 09:47:00</td>\n",
       "      <td>B02617</td>\n",
       "      <td>141</td>\n",
       "    </tr>\n",
       "    <tr>\n",
       "      <th>1</th>\n",
       "      <td>B02617</td>\n",
       "      <td>2015-05-17 09:47:00</td>\n",
       "      <td>B02617</td>\n",
       "      <td>65</td>\n",
       "    </tr>\n",
       "    <tr>\n",
       "      <th>2</th>\n",
       "      <td>B02617</td>\n",
       "      <td>2015-05-17 09:47:00</td>\n",
       "      <td>B02617</td>\n",
       "      <td>100</td>\n",
       "    </tr>\n",
       "    <tr>\n",
       "      <th>3</th>\n",
       "      <td>B02617</td>\n",
       "      <td>2015-05-17 09:47:00</td>\n",
       "      <td>B02774</td>\n",
       "      <td>80</td>\n",
       "    </tr>\n",
       "    <tr>\n",
       "      <th>4</th>\n",
       "      <td>B02617</td>\n",
       "      <td>2015-05-17 09:47:00</td>\n",
       "      <td>B02617</td>\n",
       "      <td>90</td>\n",
       "    </tr>\n",
       "  </tbody>\n",
       "</table>\n",
       "</div>"
      ],
      "text/plain": [
       "  Dispatching_base_num          Pickup_date Affiliated_base_num  locationID\n",
       "0               B02617  2015-05-17 09:47:00              B02617         141\n",
       "1               B02617  2015-05-17 09:47:00              B02617          65\n",
       "2               B02617  2015-05-17 09:47:00              B02617         100\n",
       "3               B02617  2015-05-17 09:47:00              B02774          80\n",
       "4               B02617  2015-05-17 09:47:00              B02617          90"
      ]
     },
     "execution_count": 71,
     "metadata": {},
     "output_type": "execute_result"
    }
   ],
   "source": [
    "uber_15.head()"
   ]
  },
  {
   "cell_type": "code",
   "execution_count": 83,
   "id": "confused-singapore",
   "metadata": {},
   "outputs": [],
   "source": [
    "uber_15['Pickup_date'] = pd.to_datetime(uber_15['Pickup_date'],format = '%Y-%m-%d %H:%M:%S')"
   ]
  },
  {
   "cell_type": "code",
   "execution_count": 82,
   "id": "fatty-commercial",
   "metadata": {},
   "outputs": [
    {
     "data": {
      "text/plain": [
       "Dispatching_base_num    object\n",
       "Pickup_date             object\n",
       "Affiliated_base_num     object\n",
       "locationID               int64\n",
       "dtype: object"
      ]
     },
     "execution_count": 82,
     "metadata": {},
     "output_type": "execute_result"
    }
   ],
   "source": [
    "uber_15.dtypes"
   ]
  },
  {
   "cell_type": "code",
   "execution_count": null,
   "id": "scientific-tennis",
   "metadata": {},
   "outputs": [],
   "source": []
  },
  {
   "cell_type": "code",
   "execution_count": null,
   "id": "convenient-prospect",
   "metadata": {},
   "outputs": [],
   "source": []
  }
 ],
 "metadata": {
  "kernelspec": {
   "display_name": "Python 3",
   "language": "python",
   "name": "python3"
  },
  "language_info": {
   "codemirror_mode": {
    "name": "ipython",
    "version": 3
   },
   "file_extension": ".py",
   "mimetype": "text/x-python",
   "name": "python",
   "nbconvert_exporter": "python",
   "pygments_lexer": "ipython3",
   "version": "3.8.8"
  }
 },
 "nbformat": 4,
 "nbformat_minor": 5
}
